{
 "cells": [
  {
   "cell_type": "code",
   "execution_count": 15,
   "id": "ae60a2dc",
   "metadata": {},
   "outputs": [],
   "source": [
    "import csv\n",
    "import xml.etree.ElementTree as ET"
   ]
  },
  {
   "cell_type": "code",
   "execution_count": 16,
   "id": "a4ce8685",
   "metadata": {},
   "outputs": [],
   "source": [
    "class Block:\n",
    "    \n",
    "    def __init__(self, name, x, y, typ, node):\n",
    "        self.name = name\n",
    "        self.x = x\n",
    "        self.y = y\n",
    "        self.type = typ\n",
    "        self.node = node"
   ]
  },
  {
   "cell_type": "code",
   "execution_count": 17,
   "id": "c2075dd0",
   "metadata": {},
   "outputs": [],
   "source": [
    "def get_place_data(testbench_name):\n",
    "    \n",
    "    testbench = testbench_name + \".v/common\"\n",
    "    \n",
    "    f2 = open(testbench + \"/\" + testbench_name + \".place\", \"r\")\n",
    "    \n",
    "    b = f2.readlines()[5:]\n",
    "    \n",
    "    place_matrix = []\n",
    "    for i in b:\n",
    "        add = i.strip().split('\\t')\n",
    "#         print(add)\n",
    "        if '' in add:\n",
    "            del add[1]\n",
    "        place_matrix.append(add)\n",
    "    \n",
    "    place_dict = {idx[0] : idx[1:] for idx in place_matrix}\n",
    "    \n",
    "    return place_dict"
   ]
  },
  {
   "cell_type": "code",
   "execution_count": 18,
   "id": "08b9542f",
   "metadata": {},
   "outputs": [],
   "source": [
    "def get_block_list(testbench_name, place_dict):\n",
    "    \n",
    "    testbench = testbench_name + \".v/common\"\n",
    "\n",
    "    tree = ET.parse(testbench + \"/\" + testbench_name + \".net\")\n",
    "    root = tree.getroot()\n",
    "    \n",
    "    block_list = []\n",
    "    for child in root:\n",
    "        if 'name' in child.attrib.keys():\n",
    "            name = child.attrib['name']\n",
    "            if 'io' in child.attrib['instance']:\n",
    "                typ = \"io\"\n",
    "            elif 'mult_36' in child.attrib['instance']:\n",
    "                typ = \"complex\"\n",
    "            elif 'memory' in child.attrib['instance']:\n",
    "                typ = \"complex\"\n",
    "            else:\n",
    "                typ = \"none\"\n",
    "            x = int(place_dict[child.attrib['name']][0])\n",
    "            y = int(place_dict[child.attrib['name']][1])\n",
    "            b = Block(name, x, y, typ, child)\n",
    "            block_list.append(b)\n",
    "            \n",
    "    return block_list"
   ]
  },
  {
   "cell_type": "code",
   "execution_count": 126,
   "id": "6a63b1d6",
   "metadata": {},
   "outputs": [],
   "source": [
    "def get_critical_paths(testbench_name, block_list):\n",
    "    testbench = testbench_name + \".v/common\"\n",
    "    \n",
    "    f1 = open(testbench + \"/report_timing.setup.rpt\", \"r\")\n",
    "    a = f1.readlines()[4:]\n",
    "    \n",
    "    \n",
    "\n",
    "    crit_path_info = []\n",
    "    path_num = 0\n",
    "    line_num = 0\n",
    "    while(path_num < 1):\n",
    "        path_num += 1\n",
    "        m = []\n",
    "        while(True):\n",
    "            if(a[line_num] == \"#Path \" + str(path_num+1) +\"\\n\"):\n",
    "                break\n",
    "            else:\n",
    "                m.append(a[line_num])\n",
    "                line_num += 1\n",
    "        crit_path_info.append(m)\n",
    "\n",
    "#     print(crit_path_info)\n",
    "    slacks =[]\n",
    "    k = 0    \n",
    "    for path_no in range(1):\n",
    "        \n",
    "        while(True):\n",
    "#             print(k)\n",
    "            i = a[k]\n",
    "            i = i.strip().split()\n",
    "            k += 1\n",
    "            if \"slack\" in i:\n",
    "#                 print(i)\n",
    "                slacks.append(i[2])\n",
    "                break\n",
    "            \n",
    "        \n",
    "        \n",
    "    path_list = []\n",
    "    for path in crit_path_info:\n",
    "        k = []\n",
    "        for j in path[10:]:\n",
    "# #         print(j)\n",
    "            if(j == \"\\n\"):\n",
    "                break\n",
    "            else:\n",
    "                k.append(j)\n",
    "        path_list.append(k)\n",
    "            \n",
    "    \n",
    "#     print(path_list)\n",
    "    path_matrix = []\n",
    "    for i in range(len(path_list)):\n",
    "        temp = []\n",
    "        for j in range(len(path_list[i])):\n",
    "#         print(path[i][j])\n",
    "            temp.append(path_list[i][j].strip().split())\n",
    "        path_matrix.append(temp)\n",
    "\n",
    "#     print(path_matrix)\n",
    "    path_ll = []\n",
    "    time_ll = []\n",
    "    for p in path_matrix:\n",
    "        k = p[:-1]\n",
    "        k1 = [item[0] for item in k]\n",
    "        k2 = [item[-2] for item in k]\n",
    "        time_ll.append(k2)\n",
    "        path_ll.append(k1)\n",
    "    \n",
    "#     print(path_ll)\n",
    "    \n",
    "# # #     path_ll = []\n",
    "# # path_ll = [item[0] for item in path_matrix]\n",
    "\n",
    "    path_nodes = []\n",
    "    for p in path_ll:\n",
    "        k = []\n",
    "        for n in p:\n",
    "            temp = n.split('.')\n",
    "            temp.pop()\n",
    "            temp = '.'.join(temp)\n",
    "            k.append(temp)\n",
    "        \n",
    "        path_nodes.append(k)\n",
    "    \n",
    "    \n",
    "#     print(len(path_nodes)==len(time_ll))\n",
    "    path_nodes_set = []\n",
    "#     for path in path_nodes:\n",
    "#         nodes_set = []\n",
    "#         for node in path:\n",
    "# #         print(node)\n",
    "#             if node not in nodes_set:\n",
    "# #             print(node)\n",
    "#                 nodes_set.append(node)\n",
    "# #     print(nodes_set)\n",
    "#         path_nodes_set.append(nodes_set)\n",
    "\n",
    "    print(time_ll)\n",
    "    time_set = []\n",
    "    for i in range(len(path_nodes)):\n",
    "        nodes_set = []\n",
    "        for j in range(len(path_nodes[i])):\n",
    "            node = path_nodes[i][j]\n",
    "            if node not in nodes_set:\n",
    "                n_t = [node, time_ll[i][j]]\n",
    "                nodes_set.append(n_t)\n",
    "#                 time_set.append(time_ll[i][j])\n",
    "#                 print(node, time_ll[i][j], j)\n",
    "        path_nodes_set.append(nodes_set)\n",
    "    \n",
    "# pd = get_place_data(\"or1200\")\n",
    "    \n",
    "    \n",
    "# block_list = get_block_list(\"or1200\", pd)\n",
    "    \n",
    "    path_list = []\n",
    "    for nodes_set in path_nodes_set:\n",
    "#     print(\"hello\")\n",
    "        temp = []\n",
    "        for nodes in nodes_set:\n",
    "#         print(nodes_set)\n",
    "#         for node in nodes_set:\n",
    "#             print(node)\n",
    "                for block in block_list:\n",
    "                    for b in block.node.iter('block'):\n",
    "                        if(b.attrib['name'] == nodes[0]):\n",
    "                            temp.append([block, nodes[1]])\n",
    "                            break\n",
    "        path_list.append(temp)\n",
    "        \n",
    "        \n",
    "    return path_list, slacks"
   ]
  },
  {
   "cell_type": "code",
   "execution_count": 127,
   "id": "0f0699c1",
   "metadata": {},
   "outputs": [],
   "source": [
    "tb_list = [\n",
    "#     \"arm_core\",\n",
    "#     \"bgm\",\n",
    "#     \"blob_merge\",\n",
    "#     \"boundtop\",\n",
    "#     \"ch_intrinsics\",\n",
    "    \"diffeq1\",\n",
    "#     \"diffeq2\",\n",
    "#     \"LU8PEEng\",\n",
    "#     \"LU32PEEng\",\n",
    "#     \"mcml\",\n",
    "#     \"mkDelayWorker32B\",\n",
    "#     \"mkPktMerge\",\n",
    "#     \"mkSMAdapter4B\",\n",
    "#     \"or1200\",\n",
    "#     \"raygentop\",\n",
    "#     \"sha\",\n",
    "#     \"spree\",\n",
    "#     \"stereovision0\",\n",
    "#     \"stereovision1\",\n",
    "#     \"stereovision2\",\n",
    "#     \"stereovision3\",\n",
    "]"
   ]
  },
  {
   "cell_type": "code",
   "execution_count": 128,
   "id": "e94ed592",
   "metadata": {},
   "outputs": [],
   "source": [
    "tb = \"diffeq1\""
   ]
  },
  {
   "cell_type": "code",
   "execution_count": 129,
   "id": "78cf1e0f",
   "metadata": {},
   "outputs": [
    {
     "name": "stdout",
     "output_type": "stream",
     "text": [
      "[['0.042', '0.124', '0.794', '1.523', '0.514', '1.523', '0.513', '1.523', '0.596', '0.195', '0.000', '0.300', '0.000', '0.010', '0.000', '0.010', '0.000', '0.010', '0.000', '0.010', '0.000', '0.300', '0.675', '0.300', '0.000', '0.010', '0.000', '0.010', '0.000', '0.010', '0.000', '0.010', '0.000', '0.010', '0.000', '0.010', '0.160', '0.010', '0.000', '0.010', '0.000', '0.010', '0.000', '0.010', '0.000', '0.010', '0.000', '0.010', '0.000', '0.010', '0.000', '0.010', '0.000', '0.010', '0.000', '0.300', '0.479', '0.261', '0.000']]\n"
     ]
    }
   ],
   "source": [
    "pl = get_place_data(tb)\n",
    "bl = get_block_list(tb, pl)\n",
    "cl = get_critical_paths(tb, bl)"
   ]
  },
  {
   "cell_type": "code",
   "execution_count": 153,
   "id": "e087dd93",
   "metadata": {},
   "outputs": [],
   "source": [
    "def routing_delay(cl):\n",
    "    \n",
    "    delay = 0\n",
    "    cl = cl[0][0]\n",
    "    print(len(cl))\n",
    "    for i in range(len(cl) - 1):\n",
    "#         print(i)\n",
    "        if(cl[i][0] != cl[i+1][0]):\n",
    "            delay += float(cl[i+1][1])\n",
    "            print(cl[i+1][0].name)\n",
    "    return delay"
   ]
  },
  {
   "cell_type": "code",
   "execution_count": 154,
   "id": "cd9bd20b",
   "metadata": {},
   "outputs": [
    {
     "name": "stdout",
     "output_type": "stream",
     "text": [
      "59\n",
      "diffeq_paj_convert^MUL~0[0]\n",
      "diffeq_paj_convert^MUL~42[0]\n",
      "diffeq_paj_convert^MUL~43-0[0]\n",
      "diffeq_paj_convert^MIN~44-0[0]\n",
      "diffeq_paj_convert^MIN~47-0[0]\n",
      "diffeq_paj_convert^MIN~47-20[0]\n",
      "diffeq_paj_convert^MIN~44-20[0]\n"
     ]
    }
   ],
   "source": [
    "d = routing_delay(cl)"
   ]
  },
  {
   "cell_type": "code",
   "execution_count": 155,
   "id": "0ca8b9a2",
   "metadata": {},
   "outputs": [
    {
     "data": {
      "text/plain": [
       "3.7310000000000008"
      ]
     },
     "execution_count": 155,
     "metadata": {},
     "output_type": "execute_result"
    }
   ],
   "source": [
    "d"
   ]
  },
  {
   "cell_type": "code",
   "execution_count": null,
   "id": "cfe68217",
   "metadata": {},
   "outputs": [],
   "source": []
  }
 ],
 "metadata": {
  "kernelspec": {
   "display_name": "Python 3",
   "language": "python",
   "name": "python3"
  },
  "language_info": {
   "codemirror_mode": {
    "name": "ipython",
    "version": 3
   },
   "file_extension": ".py",
   "mimetype": "text/x-python",
   "name": "python",
   "nbconvert_exporter": "python",
   "pygments_lexer": "ipython3",
   "version": "3.6.9"
  }
 },
 "nbformat": 4,
 "nbformat_minor": 5
}
